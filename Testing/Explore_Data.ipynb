{
 "cells": [
  {
   "cell_type": "code",
   "execution_count": 1,
   "id": "eb96f73f-58fc-4ec0-815f-856eb63cd075",
   "metadata": {},
   "outputs": [],
   "source": [
    "import numpy as np\n",
    "import pandas as pd"
   ]
  },
  {
   "cell_type": "code",
   "execution_count": 2,
   "id": "e61936af-b07f-4701-9874-36f6b3cb8418",
   "metadata": {},
   "outputs": [],
   "source": [
    "cars = pd.read_csv(r'C:\\Users\\user\\OneDrive\\Desktop\\My Jupyter Course\\cars_data.csv')"
   ]
  },
  {
   "cell_type": "code",
   "execution_count": 3,
   "id": "cf0d5985-5aae-40ee-96de-da5b63410c04",
   "metadata": {},
   "outputs": [
    {
     "name": "stdout",
     "output_type": "stream",
     "text": [
      "Print few rows of the data: \n",
      "  Manufacturer       Model  Engine size Fuel type  Year of manufacture  \\\n",
      "0         Ford      Fiesta          1.0    Petrol                 2002   \n",
      "1      Porsche  718 Cayman          4.0    Petrol                 2016   \n",
      "2         Ford      Mondeo          1.6    Diesel                 2014   \n",
      "3       Toyota        RAV4          1.8    Hybrid                 1988   \n",
      "4           VW        Polo          1.0    Petrol                 2006   \n",
      "\n",
      "   Mileage  Price  \n",
      "0   127300   3074  \n",
      "1    57850  49704  \n",
      "2    39190  24072  \n",
      "3   210814   1705  \n",
      "4   127869   4101  \n"
     ]
    }
   ],
   "source": [
    "print('Print few rows of the data: ')\n",
    "print(cars.head())"
   ]
  },
  {
   "cell_type": "code",
   "execution_count": 4,
   "id": "7284996a-808a-460b-9c4e-19de79c32c70",
   "metadata": {},
   "outputs": [
    {
     "name": "stdout",
     "output_type": "stream",
     "text": [
      "Check data type of each column: \n",
      "<class 'pandas.core.frame.DataFrame'>\n",
      "RangeIndex: 100 entries, 0 to 99\n",
      "Data columns (total 7 columns):\n",
      " #   Column               Non-Null Count  Dtype  \n",
      "---  ------               --------------  -----  \n",
      " 0   Manufacturer         100 non-null    object \n",
      " 1   Model                100 non-null    object \n",
      " 2   Engine size          100 non-null    float64\n",
      " 3   Fuel type            100 non-null    object \n",
      " 4   Year of manufacture  100 non-null    int64  \n",
      " 5   Mileage              100 non-null    int64  \n",
      " 6   Price                100 non-null    int64  \n",
      "dtypes: float64(1), int64(3), object(3)\n",
      "memory usage: 5.6+ KB\n",
      "None\n"
     ]
    }
   ],
   "source": [
    "print('Check data type of each column: ')\n",
    "print(cars.info())"
   ]
  },
  {
   "cell_type": "code",
   "execution_count": 5,
   "id": "8e42efd1-0b45-426f-a541-b2b3d808ebc0",
   "metadata": {},
   "outputs": [
    {
     "name": "stdout",
     "output_type": "stream",
     "text": [
      "Summary statistics: Mean, Median and Standard deviation\n",
      "       Engine size  Year of manufacture        Mileage         Price\n",
      "count   100.000000           100.000000     100.000000    100.000000\n",
      "mean      1.671000          2002.820000  120893.370000  12732.370000\n",
      "std       0.639964            10.093883   75833.033082  16803.682232\n",
      "min       1.000000          1985.000000   14070.000000    478.000000\n",
      "25%       1.200000          1993.750000   56489.750000   2235.000000\n",
      "50%       1.600000          2002.500000  112242.500000   6285.000000\n",
      "75%       2.000000          2010.000000  177116.250000  14931.500000\n",
      "max       4.400000          2021.000000  333629.000000  97758.000000\n"
     ]
    }
   ],
   "source": [
    "print('Summary statistics: Mean, Median and Standard deviation')\n",
    "print(cars.describe())"
   ]
  },
  {
   "cell_type": "code",
   "execution_count": 6,
   "id": "bb9ea054-25f7-419d-8056-555fca112ab4",
   "metadata": {},
   "outputs": [
    {
     "name": "stdout",
     "output_type": "stream",
     "text": [
      "Data correlation: \n",
      "                     Engine size  Year of manufacture   Mileage     Price\n",
      "Engine size             1.000000             0.099885 -0.075638  0.489188\n",
      "Year of manufacture     0.099885             1.000000 -0.822289  0.742265\n",
      "Mileage                -0.075638            -0.822289  1.000000 -0.649239\n",
      "Price                   0.489188             0.742265 -0.649239  1.000000\n"
     ]
    }
   ],
   "source": [
    "print('Data correlation: ')\n",
    "print(cars.select_dtypes(include=['number']).corr())"
   ]
  },
  {
   "cell_type": "code",
   "execution_count": null,
   "id": "f14e7be2-38bd-4038-af90-ec8102f1b7d5",
   "metadata": {},
   "outputs": [],
   "source": []
  }
 ],
 "metadata": {
  "kernelspec": {
   "display_name": "Python [conda env:base] *",
   "language": "python",
   "name": "conda-base-py"
  },
  "language_info": {
   "codemirror_mode": {
    "name": "ipython",
    "version": 3
   },
   "file_extension": ".py",
   "mimetype": "text/x-python",
   "name": "python",
   "nbconvert_exporter": "python",
   "pygments_lexer": "ipython3",
   "version": "3.13.5"
  }
 },
 "nbformat": 4,
 "nbformat_minor": 5
}
