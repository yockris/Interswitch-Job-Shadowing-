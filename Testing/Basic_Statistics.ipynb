{
 "cells": [
  {
   "cell_type": "code",
   "execution_count": 1,
   "id": "4032ba94-a27b-4fb2-a904-9a9880c2192f",
   "metadata": {},
   "outputs": [],
   "source": [
    "import numpy as np\n",
    "import pandas as pd"
   ]
  },
  {
   "cell_type": "code",
   "execution_count": 2,
   "id": "05a66cb5-6a85-4ad6-af4e-ed3a1ee23fef",
   "metadata": {},
   "outputs": [],
   "source": [
    "cars = pd.read_csv(r'C:\\Users\\user\\OneDrive\\Desktop\\My Jupyter Course\\cars_data.csv')"
   ]
  },
  {
   "cell_type": "code",
   "execution_count": 3,
   "id": "bba117bb-5334-4332-a479-f322ba25b886",
   "metadata": {},
   "outputs": [
    {
     "name": "stdout",
     "output_type": "stream",
     "text": [
      "   Manufacturer       Model  Engine size Fuel type  Year of manufacture  \\\n",
      "0          Ford      Fiesta          1.0    Petrol                 2002   \n",
      "1       Porsche  718 Cayman          4.0    Petrol                 2016   \n",
      "2          Ford      Mondeo          1.6    Diesel                 2014   \n",
      "3        Toyota        RAV4          1.8    Hybrid                 1988   \n",
      "4            VW        Polo          1.0    Petrol                 2006   \n",
      "..          ...         ...          ...       ...                  ...   \n",
      "95           VW      Passat          1.4    Diesel                 2010   \n",
      "96         Ford       Focus          2.0    Petrol                 2002   \n",
      "97         Ford      Mondeo          1.6    Hybrid                 2005   \n",
      "98           VW      Passat          1.6    Diesel                 2018   \n",
      "99          BMW          M5          4.4    Petrol                 1987   \n",
      "\n",
      "    Mileage  Price  \n",
      "0    127300   3074  \n",
      "1     57850  49704  \n",
      "2     39190  24072  \n",
      "3    210814   1705  \n",
      "4    127869   4101  \n",
      "..      ...    ...  \n",
      "95    64359  15563  \n",
      "96   180048   4086  \n",
      "97   142689   7247  \n",
      "98    22122  36634  \n",
      "99   226046   2956  \n",
      "\n",
      "[100 rows x 7 columns]\n"
     ]
    }
   ],
   "source": [
    "print(cars)\n",
    "#print ('\\n' + '='*30 + '\\n')"
   ]
  },
  {
   "cell_type": "code",
   "execution_count": 4,
   "id": "6a42f952-7b05-48c0-981d-6ec9971e6cb5",
   "metadata": {},
   "outputs": [
    {
     "name": "stdout",
     "output_type": "stream",
     "text": [
      "mean for each numrical value\n",
      "Engine size                 1.671\n",
      "Year of manufacture      2002.820\n",
      "Mileage                120893.370\n",
      "Price                   12732.370\n",
      "dtype: float64\n"
     ]
    }
   ],
   "source": [
    "print('mean for each numrical value')\n",
    "print(cars.select_dtypes(include=['number']).mean())"
   ]
  },
  {
   "cell_type": "code",
   "execution_count": 5,
   "id": "43897b79-46da-45d0-961e-2d332eefbe34",
   "metadata": {},
   "outputs": [
    {
     "name": "stdout",
     "output_type": "stream",
     "text": [
      "median for each numerical value\n",
      "Engine size                 1.6\n",
      "Year of manufacture      2002.5\n",
      "Mileage                112242.5\n",
      "Price                    6285.0\n",
      "dtype: float64\n"
     ]
    }
   ],
   "source": [
    "print('median for each numerical value')\n",
    "print(cars.select_dtypes(include=['number']).median())"
   ]
  },
  {
   "cell_type": "code",
   "execution_count": 6,
   "id": "55d6520c-1bbe-4402-bddf-3611156c4f86",
   "metadata": {},
   "outputs": [
    {
     "name": "stdout",
     "output_type": "stream",
     "text": [
      "Mode for each numerical value\n",
      "    Engine size  Year of manufacture  Mileage   Price\n",
      "0           1.0               2010.0    14070  2543.0\n",
      "1           NaN                  NaN    18985  3074.0\n",
      "2           NaN                  NaN    21834     NaN\n",
      "3           NaN                  NaN    22122     NaN\n",
      "4           NaN                  NaN    22371     NaN\n",
      "..          ...                  ...      ...     ...\n",
      "95          NaN                  NaN   262514     NaN\n",
      "96          NaN                  NaN   272161     NaN\n",
      "97          NaN                  NaN   279656     NaN\n",
      "98          NaN                  NaN   293666     NaN\n",
      "99          NaN                  NaN   333629     NaN\n",
      "\n",
      "[100 rows x 4 columns]\n"
     ]
    }
   ],
   "source": [
    "print('Mode for each numerical value')\n",
    "print(cars.select_dtypes(include=['number']).mode())"
   ]
  },
  {
   "cell_type": "code",
   "execution_count": 7,
   "id": "fd39291b-ad4e-4555-a2e2-7ad82e018eea",
   "metadata": {},
   "outputs": [
    {
     "name": "stdout",
     "output_type": "stream",
     "text": [
      "Data Correlation (Numeric columns only): \n",
      "                     Engine size  Year of manufacture   Mileage     Price\n",
      "Engine size             1.000000             0.099885 -0.075638  0.489188\n",
      "Year of manufacture     0.099885             1.000000 -0.822289  0.742265\n",
      "Mileage                -0.075638            -0.822289  1.000000 -0.649239\n",
      "Price                   0.489188             0.742265 -0.649239  1.000000\n"
     ]
    }
   ],
   "source": [
    "print('Data Correlation (Numeric columns only): ')\n",
    "print(cars.select_dtypes(include = ['number']).corr())"
   ]
  },
  {
   "cell_type": "code",
   "execution_count": 8,
   "id": "1c49700f-17d0-4de4-b98a-8d9b42535710",
   "metadata": {},
   "outputs": [
    {
     "name": "stdout",
     "output_type": "stream",
     "text": [
      "Standard deviation for each numerical data\n",
      "Engine size                0.639964\n",
      "Year of manufacture       10.093883\n",
      "Mileage                75833.033082\n",
      "Price                  16803.682232\n",
      "dtype: float64\n"
     ]
    }
   ],
   "source": [
    "print('Standard deviation for each numerical data')\n",
    "print(cars.select_dtypes(include=['number']).std())"
   ]
  },
  {
   "cell_type": "code",
   "execution_count": null,
   "id": "b12660bd-8d40-41af-baaf-f1327cd22afd",
   "metadata": {},
   "outputs": [],
   "source": []
  }
 ],
 "metadata": {
  "kernelspec": {
   "display_name": "Python [conda env:base] *",
   "language": "python",
   "name": "conda-base-py"
  },
  "language_info": {
   "codemirror_mode": {
    "name": "ipython",
    "version": 3
   },
   "file_extension": ".py",
   "mimetype": "text/x-python",
   "name": "python",
   "nbconvert_exporter": "python",
   "pygments_lexer": "ipython3",
   "version": "3.13.5"
  }
 },
 "nbformat": 4,
 "nbformat_minor": 5
}
